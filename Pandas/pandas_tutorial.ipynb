{
 "cells": [
  {
   "cell_type": "code",
   "execution_count": null,
   "id": "cac1e5e6",
   "metadata": {},
   "outputs": [],
   "source": [
    "import pandas as pd"
   ]
  },
  {
   "cell_type": "code",
   "execution_count": null,
   "id": "264f07cb",
   "metadata": {},
   "outputs": [],
   "source": [
    "# 1. Creating a DataFrame\n",
    "data = {'Name': ['Alice', 'Bob', 'Charlie', 'David'],\n",
    "        'Age': [25, 30, 35, 40],\n",
    "        'Salary': [50000, 60000, 70000, 80000]}"
   ]
  },
  {
   "cell_type": "code",
   "execution_count": null,
   "id": "fc557498",
   "metadata": {},
   "outputs": [],
   "source": [
    "df = pd.DataFrame(data)\n",
    "print(\"DataFrame:\")\n",
    "print(df)"
   ]
  },
  {
   "cell_type": "code",
   "execution_count": null,
   "id": "64aeef89",
   "metadata": {},
   "outputs": [],
   "source": [
    "# 2. Reading and Writing CSV Files\n",
    "df.to_csv(\"sample.csv\", index=False)  # Save DataFrame to CSV\n",
    "df_read = pd.read_csv(\"sample.csv\")  # Read CSV file\n",
    "print(\"\\nRead CSV:\")\n",
    "print(df_read)"
   ]
  },
  {
   "cell_type": "code",
   "execution_count": null,
   "id": "5c52482d",
   "metadata": {},
   "outputs": [],
   "source": [
    "# 3. Selecting Columns\n",
    "print(\"\\nSelecting 'Name' column:\")\n",
    "print(df['Name'])"
   ]
  },
  {
   "cell_type": "code",
   "execution_count": null,
   "id": "7d631a9f",
   "metadata": {},
   "outputs": [],
   "source": [
    "# 4. Filtering Data\n",
    "filtered_df = df[df['Age'] > 30]\n",
    "print(\"\\nFiltered Data (Age > 30):\")\n",
    "print(filtered_df)"
   ]
  },
  {
   "cell_type": "code",
   "execution_count": null,
   "id": "0cc6dfd7",
   "metadata": {},
   "outputs": [],
   "source": [
    "# 5. Adding a New Column\n",
    "df['Bonus'] = df['Salary'] * 0.1\n",
    "print(\"\\nDataFrame with Bonus column:\")\n",
    "print(df)"
   ]
  },
  {
   "cell_type": "code",
   "execution_count": null,
   "id": "e848a71a",
   "metadata": {},
   "outputs": [],
   "source": [
    "# 6. Sorting Data\n",
    "sorted_df = df.sort_values(by='Salary', ascending=False)\n",
    "print(\"\\nSorted Data (by Salary):\")\n",
    "print(sorted_df)"
   ]
  },
  {
   "cell_type": "code",
   "execution_count": null,
   "id": "a116e936",
   "metadata": {},
   "outputs": [],
   "source": [
    "# 7. Grouping Data\n",
    "grouped = df.groupby('Age').sum()\n",
    "print(\"\\nGrouped Data (Sum by Age):\")\n",
    "print(grouped)"
   ]
  },
  {
   "cell_type": "code",
   "execution_count": null,
   "id": "e3e24340",
   "metadata": {},
   "outputs": [],
   "source": [
    "# 8. Handling Missing Values\n",
    "df_with_nan = df.copy()\n",
    "df_with_nan.loc[1, 'Salary'] = None  # Introduce NaN value"
   ]
  },
  {
   "cell_type": "code",
   "execution_count": null,
   "id": "694a46fc",
   "metadata": {},
   "outputs": [],
   "source": [
    "print(\"\\nDataFrame with NaN:\")\n",
    "print(df_with_nan)"
   ]
  },
  {
   "cell_type": "code",
   "execution_count": null,
   "id": "278df03c",
   "metadata": {},
   "outputs": [],
   "source": [
    "df_filled = df_with_nan.fillna(df_with_nan['Salary'].mean())  # Fill NaN with mean\n",
    "print(\"\\nFilled NaN with Mean Salary:\")\n",
    "print(df_filled)"
   ]
  },
  {
   "cell_type": "code",
   "execution_count": null,
   "id": "0578ecba",
   "metadata": {},
   "outputs": [],
   "source": [
    "# 9. Merging DataFrames\n",
    "df_extra = pd.DataFrame({'Name': ['Alice', 'Bob', 'Charlie', 'David'],\n",
    "                          'Department': ['HR', 'IT', 'Finance', 'Marketing']})"
   ]
  },
  {
   "cell_type": "code",
   "execution_count": null,
   "id": "39e5a560",
   "metadata": {},
   "outputs": [],
   "source": [
    "merged_df = pd.merge(df, df_extra, on='Name')\n",
    "print(\"\\nMerged DataFrame:\")\n",
    "print(merged_df)"
   ]
  },
  {
   "cell_type": "code",
   "execution_count": null,
   "id": "630df4db",
   "metadata": {},
   "outputs": [],
   "source": [
    "# 10. Pivot Table\n",
    "pivot = df.pivot_table(values='Salary', index='Age', aggfunc='sum')\n",
    "print(\"\\nPivot Table (Salary by Age):\")\n",
    "print(pivot)\n"
   ]
  }
 ],
 "metadata": {},
 "nbformat": 4,
 "nbformat_minor": 5
}