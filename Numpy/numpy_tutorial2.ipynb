{
 "cells": [
  {
   "cell_type": "code",
   "execution_count": null,
   "id": "762f4314",
   "metadata": {},
   "outputs": [],
   "source": [
    "import numpy as np"
   ]
  },
  {
   "cell_type": "code",
   "execution_count": null,
   "id": "d7b18769",
   "metadata": {},
   "outputs": [],
   "source": [
    "# 1. Creating Arrays\n",
    "a = np.array([1, 2, 3, 4])  # 1D array\n",
    "b = np.array([[1, 2, 3], [4, 5, 6]])  # 2D array\n",
    "c = np.zeros((2, 3))  # 2x3 array filled with 0s\n",
    "d = np.ones((3, 3))  # 3x3 array filled with 1s\n",
    "e = np.full((2, 2), 7)  # 2x2 array filled with 7\n",
    "f = np.eye(3)  # Identity matrix (3x3)\n",
    "g = np.random.rand(2, 3)  # Random numbers between 0 and 1"
   ]
  },
  {
   "cell_type": "code",
   "execution_count": null,
   "id": "c18fb637",
   "metadata": {},
   "outputs": [],
   "source": [
    "print(\"Arrays:\")\n",
    "print(a, b, c, d, e, f, g, sep=\"\\n\")"
   ]
  },
  {
   "cell_type": "code",
   "execution_count": null,
   "id": "dcf4d7d9",
   "metadata": {},
   "outputs": [],
   "source": [
    "# 2. Array Operations\n",
    "x = np.array([1, 2, 3])\n",
    "y = np.array([4, 5, 6])"
   ]
  },
  {
   "cell_type": "code",
   "execution_count": null,
   "id": "56963eb4",
   "metadata": {},
   "outputs": [],
   "source": [
    "print(\"\\nArray Operations:\")\n",
    "print(x + y)\n",
    "print(x - y)\n",
    "print(x * y)\n",
    "print(x / y)\n",
    "print(x ** 2)\n",
    "print(np.dot(x, y))"
   ]
  },
  {
   "cell_type": "code",
   "execution_count": null,
   "id": "b6b5a0ac",
   "metadata": {},
   "outputs": [],
   "source": [
    "# 3. Indexing and Slicing\n",
    "arr = np.array([[1, 2, 3], [4, 5, 6], [7, 8, 9]])"
   ]
  },
  {
   "cell_type": "code",
   "execution_count": null,
   "id": "156ba388",
   "metadata": {},
   "outputs": [],
   "source": [
    "print(\"\\nIndexing and Slicing:\")\n",
    "print(arr[0, 1])  # Element at row 0, column 1 (2)\n",
    "print(arr[:, 1])  # All rows, column 1\n",
    "print(arr[1, :])  # Row 1\n",
    "print(arr[0:2, 1:3])  # Subarray (rows 0-1, columns 1-2)"
   ]
  },
  {
   "cell_type": "code",
   "execution_count": null,
   "id": "b5270c02",
   "metadata": {},
   "outputs": [],
   "source": [
    "# 4. Reshaping an Array\n",
    "reshaped = arr.reshape(3, 3)\n",
    "print(\"\\nReshaped Array:\")\n",
    "print(reshaped)"
   ]
  },
  {
   "cell_type": "code",
   "execution_count": null,
   "id": "a0b03e85",
   "metadata": {},
   "outputs": [],
   "source": [
    "# 5. Statistical Functions\n",
    "arr = np.array([1, 2, 3, 4, 5])"
   ]
  },
  {
   "cell_type": "code",
   "execution_count": null,
   "id": "ef309af0",
   "metadata": {},
   "outputs": [],
   "source": [
    "print(\"\\nStatistics:\")\n",
    "print(np.mean(arr), np.median(arr), np.std(arr), np.sum(arr), np.min(arr), np.max(arr))"
   ]
  },
  {
   "cell_type": "code",
   "execution_count": null,
   "id": "6c2f92c1",
   "metadata": {},
   "outputs": [],
   "source": [
    "# 6. Linspace\n",
    "linspace_array = np.linspace(0, 10, 5)\n",
    "print(\"\\nLinspace:\")\n",
    "print(linspace_array)"
   ]
  },
  {
   "cell_type": "code",
   "execution_count": null,
   "id": "6499c3f9",
   "metadata": {},
   "outputs": [],
   "source": [
    "# 7. Masking (Boolean Indexing)\n",
    "arr = np.array([10, 20, 30, 40, 50])\n",
    "mask = arr > 25  # Condition to filter values greater than 25\n",
    "print(\"\\nMasking:\")\n",
    "print(mask)  # Boolean mask\n",
    "print(arr[mask])  # Filtered array"
   ]
  },
  {
   "cell_type": "code",
   "execution_count": null,
   "id": "9b8ea38d",
   "metadata": {},
   "outputs": [],
   "source": [
    "# 8. Stacking Arrays\n",
    "a = np.array([[1, 2], [3, 4]])\n",
    "b = np.array([[5, 6], [7, 8]])"
   ]
  },
  {
   "cell_type": "code",
   "execution_count": null,
   "id": "3a764651",
   "metadata": {},
   "outputs": [],
   "source": [
    "print(\"\\nStacking:\")\n",
    "print(\"Vertical Stack:\\n\", np.vstack((a, b)))\n",
    "print(\"Horizontal Stack:\\n\", np.hstack((a, b)))"
   ]
  },
  {
   "cell_type": "code",
   "execution_count": null,
   "id": "b170d966",
   "metadata": {},
   "outputs": [],
   "source": [
    "# 9. Eigenvalues and Eigenvectors\n",
    "A = np.array([[4, -2], [1, 1]])\n",
    "eigenvalues, eigenvectors = np.linalg.eig(A)"
   ]
  },
  {
   "cell_type": "code",
   "execution_count": null,
   "id": "23a55461",
   "metadata": {},
   "outputs": [],
   "source": [
    "print(\"\\nEigenvalues and Eigenvectors:\")\n",
    "print(\"Eigenvalues:\", eigenvalues)\n",
    "print(\"Eigenvectors:\\n\", eigenvectors)"
   ]
  },
  {
   "cell_type": "code",
   "execution_count": null,
   "id": "033ad903",
   "metadata": {},
   "outputs": [],
   "source": [
    "# 10. Matrix Multiplication\n",
    "A = np.array([[1, 2], [3, 4]])\n",
    "B = np.array([[5, 6], [7, 8]])\n",
    "print(\"\\nMatrix Multiplication:\")\n",
    "print(np.matmul(A, B))\n"
   ]
  }
 ],
 "metadata": {},
 "nbformat": 4,
 "nbformat_minor": 5
}