{
 "cells": [
  {
   "cell_type": "code",
   "execution_count": null,
   "id": "1105ccf4",
   "metadata": {},
   "outputs": [],
   "source": [
    "import matplotlib.pyplot as plt\n",
    "import seaborn as sns\n",
    "import numpy as np\n",
    "import pandas as pd"
   ]
  },
  {
   "cell_type": "code",
   "execution_count": null,
   "id": "fa3cc3d5",
   "metadata": {},
   "outputs": [],
   "source": [
    "# 1. Line Plot (Matplotlib)\n",
    "x = np.linspace(0, 10, 100)\n",
    "y = np.sin(x)"
   ]
  },
  {
   "cell_type": "code",
   "execution_count": null,
   "id": "0242eb26",
   "metadata": {},
   "outputs": [],
   "source": [
    "plt.figure(figsize=(8, 4))\n",
    "plt.plot(x, y, label=\"Sine Wave\", color=\"blue\")\n",
    "plt.title(\"Line Plot Example\")\n",
    "plt.xlabel(\"X-axis\")\n",
    "plt.ylabel(\"Y-axis\")\n",
    "plt.legend()\n",
    "plt.grid(True)\n",
    "plt.show()"
   ]
  },
  {
   "cell_type": "code",
   "execution_count": null,
   "id": "cd0bb554",
   "metadata": {},
   "outputs": [],
   "source": [
    "# 2. Scatter Plot (Matplotlib)\n",
    "np.random.seed(0)\n",
    "x = np.random.rand(50)\n",
    "y = np.random.rand(50)"
   ]
  },
  {
   "cell_type": "code",
   "execution_count": null,
   "id": "fcaad02c",
   "metadata": {},
   "outputs": [],
   "source": [
    "plt.figure(figsize=(6, 6))\n",
    "plt.scatter(x, y, color=\"red\", marker=\"o\", label=\"Points\")\n",
    "plt.title(\"Scatter Plot Example\")\n",
    "plt.xlabel(\"Random X\")\n",
    "plt.ylabel(\"Random Y\")\n",
    "plt.legend()\n",
    "plt.show()"
   ]
  },
  {
   "cell_type": "code",
   "execution_count": null,
   "id": "a12a6e17",
   "metadata": {},
   "outputs": [],
   "source": [
    "# 3. Bar Chart (Matplotlib)\n",
    "categories = [\"A\", \"B\", \"C\", \"D\"]\n",
    "values = [3, 7, 1, 8]"
   ]
  },
  {
   "cell_type": "code",
   "execution_count": null,
   "id": "0c8a0075",
   "metadata": {},
   "outputs": [],
   "source": [
    "plt.figure(figsize=(6, 4))\n",
    "plt.bar(categories, values, color=\"green\")\n",
    "plt.title(\"Bar Chart Example\")\n",
    "plt.xlabel(\"Categories\")\n",
    "plt.ylabel(\"Values\")\n",
    "plt.show()"
   ]
  },
  {
   "cell_type": "code",
   "execution_count": null,
   "id": "4d8cd675",
   "metadata": {},
   "outputs": [],
   "source": [
    "# 4. Histogram (Matplotlib)\n",
    "data = np.random.randn(1000)"
   ]
  },
  {
   "cell_type": "code",
   "execution_count": null,
   "id": "9b9f20ca",
   "metadata": {},
   "outputs": [],
   "source": [
    "plt.figure(figsize=(6, 4))\n",
    "plt.hist(data, bins=30, color=\"purple\", edgecolor=\"black\", alpha=0.7)\n",
    "plt.title(\"Histogram Example\")\n",
    "plt.xlabel(\"Value\")\n",
    "plt.ylabel(\"Frequency\")\n",
    "plt.show()"
   ]
  },
  {
   "cell_type": "code",
   "execution_count": null,
   "id": "75b98c0d",
   "metadata": {},
   "outputs": [],
   "source": [
    "# 5. Boxplot (Seaborn)\n",
    "df = pd.DataFrame({\n",
    "    \"Category\": np.random.choice([\"A\", \"B\", \"C\"], 100),\n",
    "    \"Value\": np.random.randn(100) * 10 + 50\n",
    "})"
   ]
  },
  {
   "cell_type": "code",
   "execution_count": null,
   "id": "7571d10b",
   "metadata": {},
   "outputs": [],
   "source": [
    "plt.figure(figsize=(6, 4))\n",
    "sns.boxplot(x=\"Category\", y=\"Value\", data=df, palette=\"pastel\")\n",
    "plt.title(\"Boxplot Example\")\n",
    "plt.show()"
   ]
  },
  {
   "cell_type": "code",
   "execution_count": null,
   "id": "7dbb7183",
   "metadata": {},
   "outputs": [],
   "source": [
    "# 6. Heatmap (Seaborn)\n",
    "matrix = np.random.rand(5, 5)"
   ]
  },
  {
   "cell_type": "code",
   "execution_count": null,
   "id": "8d32321f",
   "metadata": {},
   "outputs": [],
   "source": [
    "plt.figure(figsize=(5, 4))\n",
    "sns.heatmap(matrix, annot=True, cmap=\"coolwarm\", linewidths=0.5)\n",
    "plt.title(\"Heatmap Example\")\n",
    "plt.show()"
   ]
  },
  {
   "cell_type": "code",
   "execution_count": null,
   "id": "a8c9313e",
   "metadata": {},
   "outputs": [],
   "source": [
    "# 7. Pairplot (Seaborn)\n",
    "iris = sns.load_dataset(\"iris\")"
   ]
  },
  {
   "cell_type": "code",
   "execution_count": null,
   "id": "dcfe1708",
   "metadata": {},
   "outputs": [],
   "source": [
    "plt.figure(figsize=(6, 6))\n",
    "sns.pairplot(iris, hue=\"species\")\n",
    "plt.show()"
   ]
  },
  {
   "cell_type": "code",
   "execution_count": null,
   "id": "967ea06d",
   "metadata": {},
   "outputs": [],
   "source": [
    "# 8. Violin Plot (Seaborn)\n",
    "plt.figure(figsize=(6, 4))\n",
    "sns.violinplot(x=\"species\", y=\"sepal_length\", data=iris, palette=\"muted\")\n",
    "plt.title(\"Violin Plot Example\")\n",
    "plt.show()\n"
   ]
  }
 ],
 "metadata": {},
 "nbformat": 4,
 "nbformat_minor": 5
}